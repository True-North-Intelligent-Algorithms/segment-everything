{
 "cells": [
  {
   "cell_type": "code",
   "execution_count": 22,
   "metadata": {},
   "outputs": [],
   "source": [
    "from segment_everything.stacked_labels import StackedLabels\n",
    "from pathlib import Path\n",
    "from skimage.io import imread\n",
    "\n",
    "tnia_images_path = Path(r\"D:\\images\")\n",
    "parent_path=Path(tnia_images_path / r'tnia-python-images/imagesc/2024_05_01_cellpose_ladybug')\n",
    "im_name = '522_img_crop.png'\n",
    "txt_name = '522_img_crop.txt'\n",
    "\n",
    "'''\n",
    "parent_path=Path(tnia_images_path / r'tnia-python-images/imagesc/2024_05_03_mouse_and_grid')\n",
    "im_name = '6AMAH2b.png'\n",
    "txt_name = '6AMAH2b.txt'\n",
    "'''\n",
    "\n",
    "img = imread(parent_path / im_name)\n",
    "yolos = StackedLabels.read_yolo_txt(parent_path / txt_name)\n",
    "stacked_labels = StackedLabels.from_yolo_results(yolos, img)\n"
   ]
  },
  {
   "cell_type": "code",
   "execution_count": 21,
   "metadata": {},
   "outputs": [
    {
     "name": "stdout",
     "output_type": "stream",
     "text": [
      "dict_keys(['segmentation', 'indexes', 'point_coords', 'prompt_bbox', 'area', 'predicted_iou', 'stability_score', 'image'])\n"
     ]
    }
   ],
   "source": [
    "print(stacked_labels.mask_list[0].keys())"
   ]
  },
  {
   "cell_type": "code",
   "execution_count": 17,
   "metadata": {},
   "outputs": [
    {
     "name": "stdout",
     "output_type": "stream",
     "text": [
      "<class 'list'>\n",
      "<class 'segment_everything.stacked_labels.StackedLabels'>\n"
     ]
    }
   ],
   "source": [
    "print(type(yolos))\n",
    "print(type(stacked_labels))"
   ]
  },
  {
   "cell_type": "code",
   "execution_count": 18,
   "metadata": {},
   "outputs": [
    {
     "name": "stdout",
     "output_type": "stream",
     "text": [
      "area 20 2500\n",
      "label_num 1 71\n",
      "solidity 1.0 1.0\n",
      "circularity 0.7951678539102343 1\n",
      "mean_intensity 39.99 182.53125\n",
      "10th_percentile_intensity 0.0 136.2\n",
      "mean_hue 63.75 85.0\n",
      "mean_saturation 191.25 255.0\n",
      "predicted_iou 1 1\n",
      "stability_score 1 1\n"
     ]
    }
   ],
   "source": [
    "from segment_everything.napari_helper import stacked_labels_to_napari\n",
    "stacked_labels_to_napari(stacked_labels)"
   ]
  },
  {
   "cell_type": "code",
   "execution_count": 11,
   "metadata": {},
   "outputs": [
    {
     "name": "stdout",
     "output_type": "stream",
     "text": [
      "VIT checkpoint loaded successfully\n"
     ]
    }
   ],
   "source": [
    "from segment_everything.weights_helper import create_sam_model\n",
    "from segment_everything.detect_and_segment import segment_from_bbox\n",
    "from segment_everything.detect_and_segment import segment_from_stacked_labels\n",
    "\n",
    "new_stacked_labels = segment_from_stacked_labels(stacked_labels, \"MobileSamV2\") "
   ]
  },
  {
   "cell_type": "code",
   "execution_count": 15,
   "metadata": {},
   "outputs": [
    {
     "name": "stdout",
     "output_type": "stream",
     "text": [
      "area 8.0 1483.0\n",
      "label_num 1 71\n",
      "solidity 0.47619047619047616 1.0\n",
      "circularity 0.6144532948418294 1\n",
      "mean_intensity 19.3 209.22413793103448\n",
      "10th_percentile_intensity 0.0 126.39999999999999\n",
      "mean_hue 55.25 85.0\n",
      "mean_saturation 165.75 255.0\n",
      "predicted_iou 0.5569547414779663 0.984684944152832\n",
      "stability_score 0.7142857313156128 1.0\n"
     ]
    }
   ],
   "source": [
    "stacked_labels_to_napari(new_stacked_labels)"
   ]
  },
  {
   "cell_type": "code",
   "execution_count": null,
   "metadata": {},
   "outputs": [],
   "source": []
  }
 ],
 "metadata": {
  "kernelspec": {
   "display_name": "pytorch_and_SAM3",
   "language": "python",
   "name": "python3"
  },
  "language_info": {
   "codemirror_mode": {
    "name": "ipython",
    "version": 3
   },
   "file_extension": ".py",
   "mimetype": "text/x-python",
   "name": "python",
   "nbconvert_exporter": "python",
   "pygments_lexer": "ipython3",
   "version": "3.10.14"
  }
 },
 "nbformat": 4,
 "nbformat_minor": 2
}
